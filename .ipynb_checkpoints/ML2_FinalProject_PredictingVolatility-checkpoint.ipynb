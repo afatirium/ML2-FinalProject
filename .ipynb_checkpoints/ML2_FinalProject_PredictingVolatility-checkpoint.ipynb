{
 "cells": [
  {
   "cell_type": "markdown",
   "id": "2563663f",
   "metadata": {},
   "source": [
    "# Using ML models Predicting Volatility\n",
    "- Afet Ibadova 453818\n",
    "- Daryush Ray 455894"
   ]
  },
  {
   "cell_type": "markdown",
   "id": "a37c05da",
   "metadata": {},
   "source": [
    "## Introduction\n",
    "**The aim of the Project** - (add this part)"
   ]
  },
  {
   "cell_type": "code",
   "execution_count": 1,
   "id": "09a0bd98",
   "metadata": {},
   "outputs": [
    {
     "name": "stdout",
     "output_type": "stream",
     "text": [
      "Requirement already satisfied: yfinance in c:\\users\\afat\\anaconda3\\lib\\site-packages (0.1.70)\n",
      "Requirement already satisfied: lxml>=4.5.1 in c:\\users\\afat\\anaconda3\\lib\\site-packages (from yfinance) (4.6.3)\n",
      "Requirement already satisfied: numpy>=1.15 in c:\\users\\afat\\anaconda3\\lib\\site-packages (from yfinance) (1.22.4)\n",
      "Requirement already satisfied: pandas>=0.24.0 in c:\\users\\afat\\anaconda3\\lib\\site-packages (from yfinance) (1.3.4)\n",
      "Requirement already satisfied: multitasking>=0.0.7 in c:\\users\\afat\\anaconda3\\lib\\site-packages (from yfinance) (0.0.10)\n",
      "Requirement already satisfied: requests>=2.26 in c:\\users\\afat\\anaconda3\\lib\\site-packages (from yfinance) (2.26.0)\n",
      "Requirement already satisfied: pytz>=2017.3 in c:\\users\\afat\\anaconda3\\lib\\site-packages (from pandas>=0.24.0->yfinance) (2021.3)\n",
      "Requirement already satisfied: python-dateutil>=2.7.3 in c:\\users\\afat\\anaconda3\\lib\\site-packages (from pandas>=0.24.0->yfinance) (2.8.2)\n",
      "Requirement already satisfied: six>=1.5 in c:\\users\\afat\\anaconda3\\lib\\site-packages (from python-dateutil>=2.7.3->pandas>=0.24.0->yfinance) (1.16.0)\n",
      "Requirement already satisfied: certifi>=2017.4.17 in c:\\users\\afat\\anaconda3\\lib\\site-packages (from requests>=2.26->yfinance) (2021.10.8)\n",
      "Requirement already satisfied: charset-normalizer~=2.0.0 in c:\\users\\afat\\anaconda3\\lib\\site-packages (from requests>=2.26->yfinance) (2.0.4)\n",
      "Requirement already satisfied: urllib3<1.27,>=1.21.1 in c:\\users\\afat\\anaconda3\\lib\\site-packages (from requests>=2.26->yfinance) (1.26.7)\n",
      "Requirement already satisfied: idna<4,>=2.5 in c:\\users\\afat\\anaconda3\\lib\\site-packages (from requests>=2.26->yfinance) (3.2)\n",
      "Collecting ta\n",
      "  Downloading ta-0.11.0.tar.gz (25 kB)\n",
      "Requirement already satisfied: numpy in c:\\users\\afat\\anaconda3\\lib\\site-packages (from ta) (1.22.4)\n",
      "Requirement already satisfied: pandas in c:\\users\\afat\\anaconda3\\lib\\site-packages (from ta) (1.3.4)\n",
      "Requirement already satisfied: python-dateutil>=2.7.3 in c:\\users\\afat\\anaconda3\\lib\\site-packages (from pandas->ta) (2.8.2)\n",
      "Requirement already satisfied: pytz>=2017.3 in c:\\users\\afat\\anaconda3\\lib\\site-packages (from pandas->ta) (2021.3)\n",
      "Requirement already satisfied: six>=1.5 in c:\\users\\afat\\anaconda3\\lib\\site-packages (from python-dateutil>=2.7.3->pandas->ta) (1.16.0)\n",
      "Building wheels for collected packages: ta\n",
      "  Building wheel for ta (setup.py): started\n",
      "  Building wheel for ta (setup.py): finished with status 'done'\n",
      "  Created wheel for ta: filename=ta-0.11.0-py3-none-any.whl size=29430 sha256=2a6ece1be10248bf3b489e2abe389e2fc91cefa9b0cf37f5b0b4c9d4ac6345c0\n",
      "  Stored in directory: c:\\users\\afat\\appdata\\local\\pip\\cache\\wheels\\61\\d8\\66\\8018676d483fa5edb5337a7a25ee8c029ac255be25f90f3cd5\n",
      "Successfully built ta\n",
      "Installing collected packages: ta\n",
      "Successfully installed ta-0.11.0\n"
     ]
    }
   ],
   "source": [
    "!pip install yfinance\n",
    "!pip install ta"
   ]
  },
  {
   "cell_type": "markdown",
   "id": "7a805898",
   "metadata": {},
   "source": [
    "## Import libraries and data"
   ]
  },
  {
   "cell_type": "code",
   "execution_count": 3,
   "id": "6aa1af6a",
   "metadata": {},
   "outputs": [],
   "source": [
    "# Import libraries\n",
    "import pandas as pd\n",
    "import numpy as np\n",
    "\n",
    "import matplotlib.pyplot as plt\n",
    "import matplotlib as mpl\n",
    "from matplotlib import cycler\n",
    "import seaborn as sns\n",
    "sns.set_style('whitegrid')\n",
    "plt.style.use(\"fivethirtyeight\")\n",
    "%matplotlib inline\n",
    "\n",
    "# For reading stock data from yahoo\n",
    "from pandas_datareader.data import DataReader\n",
    "import yfinance as yf\n",
    "from pandas_datareader import data as pdr\n",
    "yf.pdr_override()\n",
    "\n",
    "# For time stamps\n",
    "from datetime import datetime"
   ]
  },
  {
   "cell_type": "code",
   "execution_count": 8,
   "id": "3a32fde4",
   "metadata": {},
   "outputs": [
    {
     "name": "stdout",
     "output_type": "stream",
     "text": [
      "[*********************100%***********************]  1 of 1 completed\n"
     ]
    },
    {
     "data": {
      "text/plain": [
       "Index(['Open', 'High', 'Low', 'Close', 'Adj Close', 'Volume'], dtype='object')"
      ]
     },
     "execution_count": 8,
     "metadata": {},
     "output_type": "execute_result"
    }
   ],
   "source": [
    "# import data\n",
    "df = yf.download(\"SP\")\n",
    "df.columns"
   ]
  },
  {
   "cell_type": "code",
   "execution_count": 16,
   "id": "7924ae9c",
   "metadata": {},
   "outputs": [
    {
     "data": {
      "text/html": [
       "<div>\n",
       "<style scoped>\n",
       "    .dataframe tbody tr th:only-of-type {\n",
       "        vertical-align: middle;\n",
       "    }\n",
       "\n",
       "    .dataframe tbody tr th {\n",
       "        vertical-align: top;\n",
       "    }\n",
       "\n",
       "    .dataframe thead th {\n",
       "        text-align: right;\n",
       "    }\n",
       "</style>\n",
       "<table border=\"1\" class=\"dataframe\">\n",
       "  <thead>\n",
       "    <tr style=\"text-align: right;\">\n",
       "      <th></th>\n",
       "      <th>close</th>\n",
       "    </tr>\n",
       "    <tr>\n",
       "      <th>Date</th>\n",
       "      <th></th>\n",
       "    </tr>\n",
       "  </thead>\n",
       "  <tbody>\n",
       "    <tr>\n",
       "      <th>2004-06-02</th>\n",
       "      <td>6.545000</td>\n",
       "    </tr>\n",
       "    <tr>\n",
       "      <th>2004-06-03</th>\n",
       "      <td>6.485000</td>\n",
       "    </tr>\n",
       "    <tr>\n",
       "      <th>2004-06-04</th>\n",
       "      <td>6.475000</td>\n",
       "    </tr>\n",
       "    <tr>\n",
       "      <th>2004-06-07</th>\n",
       "      <td>6.395000</td>\n",
       "    </tr>\n",
       "    <tr>\n",
       "      <th>2004-06-08</th>\n",
       "      <td>6.590000</td>\n",
       "    </tr>\n",
       "    <tr>\n",
       "      <th>...</th>\n",
       "      <td>...</td>\n",
       "    </tr>\n",
       "    <tr>\n",
       "      <th>2024-01-04</th>\n",
       "      <td>51.599998</td>\n",
       "    </tr>\n",
       "    <tr>\n",
       "      <th>2024-01-05</th>\n",
       "      <td>51.590000</td>\n",
       "    </tr>\n",
       "    <tr>\n",
       "      <th>2024-01-08</th>\n",
       "      <td>51.360001</td>\n",
       "    </tr>\n",
       "    <tr>\n",
       "      <th>2024-01-09</th>\n",
       "      <td>51.209999</td>\n",
       "    </tr>\n",
       "    <tr>\n",
       "      <th>2024-01-10</th>\n",
       "      <td>51.400002</td>\n",
       "    </tr>\n",
       "  </tbody>\n",
       "</table>\n",
       "<p>4936 rows × 1 columns</p>\n",
       "</div>"
      ],
      "text/plain": [
       "                close\n",
       "Date                 \n",
       "2004-06-02   6.545000\n",
       "2004-06-03   6.485000\n",
       "2004-06-04   6.475000\n",
       "2004-06-07   6.395000\n",
       "2004-06-08   6.590000\n",
       "...               ...\n",
       "2024-01-04  51.599998\n",
       "2024-01-05  51.590000\n",
       "2024-01-08  51.360001\n",
       "2024-01-09  51.209999\n",
       "2024-01-10  51.400002\n",
       "\n",
       "[4936 rows x 1 columns]"
      ]
     },
     "execution_count": 16,
     "metadata": {},
     "output_type": "execute_result"
    }
   ],
   "source": [
    "# Rename the columns\n",
    "df1 = df[[\"Adj Close\"]]\n",
    "df1.columns = [\"close\"]\n",
    "df1"
   ]
  },
  {
   "cell_type": "markdown",
   "id": "13177274",
   "metadata": {},
   "source": [
    "## Investigate data"
   ]
  },
  {
   "cell_type": "code",
   "execution_count": 11,
   "id": "a6ef93fd",
   "metadata": {},
   "outputs": [
    {
     "data": {
      "text/html": [
       "<div>\n",
       "<style scoped>\n",
       "    .dataframe tbody tr th:only-of-type {\n",
       "        vertical-align: middle;\n",
       "    }\n",
       "\n",
       "    .dataframe tbody tr th {\n",
       "        vertical-align: top;\n",
       "    }\n",
       "\n",
       "    .dataframe thead th {\n",
       "        text-align: right;\n",
       "    }\n",
       "</style>\n",
       "<table border=\"1\" class=\"dataframe\">\n",
       "  <thead>\n",
       "    <tr style=\"text-align: right;\">\n",
       "      <th></th>\n",
       "      <th>Open</th>\n",
       "      <th>High</th>\n",
       "      <th>Low</th>\n",
       "      <th>Close</th>\n",
       "      <th>Adj Close</th>\n",
       "      <th>Volume</th>\n",
       "    </tr>\n",
       "  </thead>\n",
       "  <tbody>\n",
       "    <tr>\n",
       "      <th>count</th>\n",
       "      <td>4936.000000</td>\n",
       "      <td>4936.000000</td>\n",
       "      <td>4936.000000</td>\n",
       "      <td>4936.000000</td>\n",
       "      <td>4936.000000</td>\n",
       "      <td>4.936000e+03</td>\n",
       "    </tr>\n",
       "    <tr>\n",
       "      <th>mean</th>\n",
       "      <td>23.772882</td>\n",
       "      <td>24.127306</td>\n",
       "      <td>23.398523</td>\n",
       "      <td>23.765785</td>\n",
       "      <td>23.765785</td>\n",
       "      <td>7.829639e+04</td>\n",
       "    </tr>\n",
       "    <tr>\n",
       "      <th>std</th>\n",
       "      <td>9.330066</td>\n",
       "      <td>9.415053</td>\n",
       "      <td>9.242895</td>\n",
       "      <td>9.319622</td>\n",
       "      <td>9.319622</td>\n",
       "      <td>1.164928e+05</td>\n",
       "    </tr>\n",
       "    <tr>\n",
       "      <th>min</th>\n",
       "      <td>5.975000</td>\n",
       "      <td>6.075000</td>\n",
       "      <td>5.930000</td>\n",
       "      <td>5.990000</td>\n",
       "      <td>5.990000</td>\n",
       "      <td>0.000000e+00</td>\n",
       "    </tr>\n",
       "    <tr>\n",
       "      <th>25%</th>\n",
       "      <td>17.320000</td>\n",
       "      <td>17.628749</td>\n",
       "      <td>17.000000</td>\n",
       "      <td>17.330000</td>\n",
       "      <td>17.330000</td>\n",
       "      <td>3.370000e+04</td>\n",
       "    </tr>\n",
       "    <tr>\n",
       "      <th>50%</th>\n",
       "      <td>22.150000</td>\n",
       "      <td>22.490000</td>\n",
       "      <td>21.740000</td>\n",
       "      <td>22.180000</td>\n",
       "      <td>22.180000</td>\n",
       "      <td>5.600000e+04</td>\n",
       "    </tr>\n",
       "    <tr>\n",
       "      <th>75%</th>\n",
       "      <td>31.182500</td>\n",
       "      <td>31.639999</td>\n",
       "      <td>30.650000</td>\n",
       "      <td>31.190001</td>\n",
       "      <td>31.190001</td>\n",
       "      <td>9.250000e+04</td>\n",
       "    </tr>\n",
       "    <tr>\n",
       "      <th>max</th>\n",
       "      <td>52.290001</td>\n",
       "      <td>52.400002</td>\n",
       "      <td>51.500000</td>\n",
       "      <td>51.700001</td>\n",
       "      <td>51.700001</td>\n",
       "      <td>4.820400e+06</td>\n",
       "    </tr>\n",
       "  </tbody>\n",
       "</table>\n",
       "</div>"
      ],
      "text/plain": [
       "              Open         High          Low        Close    Adj Close  \\\n",
       "count  4936.000000  4936.000000  4936.000000  4936.000000  4936.000000   \n",
       "mean     23.772882    24.127306    23.398523    23.765785    23.765785   \n",
       "std       9.330066     9.415053     9.242895     9.319622     9.319622   \n",
       "min       5.975000     6.075000     5.930000     5.990000     5.990000   \n",
       "25%      17.320000    17.628749    17.000000    17.330000    17.330000   \n",
       "50%      22.150000    22.490000    21.740000    22.180000    22.180000   \n",
       "75%      31.182500    31.639999    30.650000    31.190001    31.190001   \n",
       "max      52.290001    52.400002    51.500000    51.700001    51.700001   \n",
       "\n",
       "             Volume  \n",
       "count  4.936000e+03  \n",
       "mean   7.829639e+04  \n",
       "std    1.164928e+05  \n",
       "min    0.000000e+00  \n",
       "25%    3.370000e+04  \n",
       "50%    5.600000e+04  \n",
       "75%    9.250000e+04  \n",
       "max    4.820400e+06  "
      ]
     },
     "execution_count": 11,
     "metadata": {},
     "output_type": "execute_result"
    }
   ],
   "source": [
    "df.describe()"
   ]
  },
  {
   "cell_type": "code",
   "execution_count": 12,
   "id": "e85d6292",
   "metadata": {},
   "outputs": [
    {
     "data": {
      "text/plain": [
       "<bound method DataFrame.info of                  Open       High        Low      Close  Adj Close  Volume\n",
       "Date                                                                     \n",
       "2004-06-02   6.235000   6.545000   6.165000   6.545000   6.545000  109200\n",
       "2004-06-03   6.550000   7.345000   6.485000   6.485000   6.485000  186400\n",
       "2004-06-04   6.650000   6.650000   6.445000   6.475000   6.475000  146200\n",
       "2004-06-07   6.450000   6.615000   6.350000   6.395000   6.395000  120800\n",
       "2004-06-08   6.425000   6.760000   6.425000   6.590000   6.590000  258200\n",
       "...               ...        ...        ...        ...        ...     ...\n",
       "2024-01-04  51.900002  51.900002  51.400002  51.599998  51.599998  110600\n",
       "2024-01-05  51.509998  52.000000  51.500000  51.590000  51.590000  150000\n",
       "2024-01-08  51.580002  51.840000  51.349998  51.360001  51.360001  221800\n",
       "2024-01-09  51.240002  51.500000  51.110001  51.209999  51.209999  167200\n",
       "2024-01-10  51.220001  51.500000  51.220001  51.400002  51.400002  244376\n",
       "\n",
       "[4936 rows x 6 columns]>"
      ]
     },
     "execution_count": 12,
     "metadata": {},
     "output_type": "execute_result"
    }
   ],
   "source": [
    "df.info"
   ]
  },
  {
   "cell_type": "code",
   "execution_count": 28,
   "id": "a4e5fa61",
   "metadata": {},
   "outputs": [
    {
     "data": {
      "image/png": "[encoded data removed]",
      "text/plain": [
       "<Figure size 1080x360 with 2 Axes>"
      ]
     },
     "metadata": {
      "needs_background": "light"
     },
     "output_type": "display_data"
    }
   ],
   "source": [
    "# Create a 1x2 subplot grid (one row, two columns)\n",
    "fig, axs = plt.subplots(1, 2, figsize=(15, 5))\n",
    "\n",
    "# Plot the first subplot (Closing Price - Adj Close)\n",
    "axs[0].plot(df1.index, df['Adj Close'])\n",
    "axs[0].set_ylabel('Adj Close')\n",
    "axs[0].set_xlabel(None)\n",
    "axs[0].set_title(\"Closing Price of SP500\")\n",
    "\n",
    "# Plot the second subplot (Volume)\n",
    "axs[1].plot(df.index, df['Volume'])\n",
    "axs[1].set_ylabel('Volume')\n",
    "axs[1].set_xlabel(None)\n",
    "axs[1].set_title(\"Sales Volume for SP500\")\n",
    "\n",
    "# Adjust the layout\n",
    "plt.tight_layout()\n",
    "\n",
    "# Show the combined plot\n",
    "plt.show()\n"
   ]
  },
  {
   "cell_type": "code",
   "execution_count": null,
   "id": "7bf4463a",
   "metadata": {},
   "outputs": [],
   "source": []
  }
 ],
 "metadata": {
  "kernelspec": {
   "display_name": "Python 3 (ipykernel)",
   "language": "python",
   "name": "python3"
  },
  "language_info": {
   "codemirror_mode": {
    "name": "ipython",
    "version": 3
   },
   "file_extension": ".py",
   "mimetype": "text/x-python",
   "name": "python",
   "nbconvert_exporter": "python",
   "pygments_lexer": "ipython3",
   "version": "3.9.7"
  }
 },
 "nbformat": 4,
 "nbformat_minor": 5
}
